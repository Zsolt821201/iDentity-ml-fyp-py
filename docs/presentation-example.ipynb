{
 "cells": [
  {
   "cell_type": "markdown",
   "id": "06c7f368",
   "metadata": {
    "slideshow": {
     "slide_type": "slide"
    }
   },
   "source": [
    "# Identity \n",
    "\n",
    "logging in with facuial ID\n"
   ]
  },
  {
   "cell_type": "markdown",
   "id": "620ec498",
   "metadata": {
    "slideshow": {
     "slide_type": "slide"
    }
   },
   "source": [
    "```py\n",
    "def detect_and_save_user_face(user_account_id, image, image_number):\n",
    "    \"\"\"Detects a single face in the image and saves it to the database\"\"\"\n",
    "    gray_scale_image = cv2.cvtColor(image, cv2.COLOR_BGR2GRAY)\n",
    "\n",
    "    face_found, face = detect_user_face(gray_scale_image)\n",
    "    if face_found:\n",
    "        x, y, w, h = face\n",
    "        directory: str = f\"{DATABASE_FACE_DIRECTORY}/user-{user_account_id}\"\n",
    "        os.makedirs(directory, exist_ok=True)\n",
    "        cv2.imwrite(f\"{directory}/{image_number}.jpg\",\n",
    "                    gray_scale_image[y:y+h, x:x+w])\n",
    "\n",
    "    return face_found\n",
    "```\n",
    "How to save a face"
   ]
  },
  {
   "cell_type": "markdown",
   "id": "eee18811",
   "metadata": {
    "slideshow": {
     "slide_type": "subslide"
    }
   },
   "source": [
    "# Thanks you,\n",
    "\n",
    "- ...Any Questions"
   ]
  }
 ],
 "metadata": {
  "celltoolbar": "Slideshow",
  "kernelspec": {
   "display_name": "Python 3 (ipykernel)",
   "language": "python",
   "name": "python3"
  },
  "language_info": {
   "codemirror_mode": {
    "name": "ipython",
    "version": 3
   },
   "file_extension": ".py",
   "mimetype": "text/x-python",
   "name": "python",
   "nbconvert_exporter": "python",
   "pygments_lexer": "ipython3",
   "version": "3.9.13"
  }
 },
 "nbformat": 4,
 "nbformat_minor": 5
}
